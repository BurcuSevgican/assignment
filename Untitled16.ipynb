{
  "nbformat": 4,
  "nbformat_minor": 0,
  "metadata": {
    "colab": {
      "name": "Untitled16.ipynb",
      "provenance": [],
      "authorship_tag": "ABX9TyMa3Ji0IlBB9hkGfrURsoHG",
      "include_colab_link": true
    },
    "kernelspec": {
      "name": "python3",
      "display_name": "Python 3"
    }
  },
  "cells": [
    {
      "cell_type": "markdown",
      "metadata": {
        "id": "view-in-github",
        "colab_type": "text"
      },
      "source": [
        "<a href=\"https://colab.research.google.com/github/BurcuSevgican/assignment/blob/main/Untitled16.ipynb\" target=\"_parent\"><img src=\"https://colab.research.google.com/assets/colab-badge.svg\" alt=\"Open In Colab\"/></a>"
      ]
    },
    {
      "cell_type": "code",
      "metadata": {
        "id": "KJxjyK-JB-gR"
      },
      "source": [
        "number = input(\"say a number: \")\n",
        "x = list(number)\n",
        "print(x)\n",
        "sum_a = 0\n",
        "\n",
        "for i in x: #(0, 1)\n",
        "    int(i)**len(x)\n",
        "    sum_a += int(i) ** len(x)\n",
        "if sum_a == int(number):\n",
        "    print('{} is an Armstrong number'.format(number))\n",
        "else :\n",
        "    print('{} is not an Armstrong number'.format(number))"
      ],
      "execution_count": null,
      "outputs": []
    }
  ]
}