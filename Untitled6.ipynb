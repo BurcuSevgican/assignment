{
  "nbformat": 4,
  "nbformat_minor": 0,
  "metadata": {
    "colab": {
      "name": "Untitled6.ipynb",
      "provenance": [],
      "authorship_tag": "ABX9TyP5d7AIsljT10/er45BCV8b",
      "include_colab_link": true
    },
    "kernelspec": {
      "name": "python3",
      "display_name": "Python 3"
    }
  },
  "cells": [
    {
      "cell_type": "markdown",
      "metadata": {
        "id": "view-in-github",
        "colab_type": "text"
      },
      "source": [
        "<a href=\"https://colab.research.google.com/github/BurcuSevgican/assignment/blob/main/Untitled6.ipynb\" target=\"_parent\"><img src=\"https://colab.research.google.com/assets/colab-badge.svg\" alt=\"Open In Colab\"/></a>"
      ]
    },
    {
      "cell_type": "code",
      "metadata": {
        "id": "MQBKrLpGZH39"
      },
      "source": [
        "pw = \"izmir\"\n",
        "name = \"Burcu\"\n",
        "\n",
        "while True:\n",
        "    guess_name = input(\"say a name:   \")\n",
        "    if guess_name == name:\n",
        "        print(\"Hello, Burcu! The password is: izmir\")\n",
        "        break\n",
        "    else:\n",
        "        print(\"Hello,Altay!See you later.\")\n",
        "        "
      ],
      "execution_count": null,
      "outputs": []
    },
    {
      "cell_type": "code",
      "metadata": {
        "colab": {
          "base_uri": "https://localhost:8080/"
        },
        "id": "1OA9gHahaM7_",
        "outputId": "dafc2be8-a895-4c3e-908c-4f396d50605f"
      },
      "source": [
        "\n",
        "age = input(\"Are you a cigarette addict older than 75 years old?  yes/no  \")\n",
        "chronic = input(\"Do you have a severe chronic disease?  yes/no \")\n",
        "immune = input(\"Is your immune system too weak? yes/no \" )\n",
        "if (age and chronic and immune) == \"yes\": \n",
        "    print(\"You are in risky group\") \n",
        "else :\n",
        "    print(\"You are not in risky group\")\n",
        "\n",
        "  "
      ],
      "execution_count": 12,
      "outputs": [
        {
          "output_type": "stream",
          "text": [
            "Are you a cigarette addict older than 75 years old?  yes/no  yes\n",
            "Do you have a severe chronic disease?  yes/no yes\n",
            "Is your immune system too weak? yes/no yes\n",
            "You are in risky group\n"
          ],
          "name": "stdout"
        }
      ]
    },
    {
      "cell_type": "code",
      "metadata": {
        "id": "DL2q5QfxdfA-"
      },
      "source": [
        ""
      ],
      "execution_count": null,
      "outputs": []
    }
  ]
}