{
  "nbformat": 4,
  "nbformat_minor": 0,
  "metadata": {
    "colab": {
      "name": "Untitled17.ipynb",
      "provenance": [],
      "authorship_tag": "ABX9TyMZ+B6W1pJWqlMfYgevJNPk",
      "include_colab_link": true
    },
    "kernelspec": {
      "name": "python3",
      "display_name": "Python 3"
    }
  },
  "cells": [
    {
      "cell_type": "markdown",
      "metadata": {
        "id": "view-in-github",
        "colab_type": "text"
      },
      "source": [
        "<a href=\"https://colab.research.google.com/github/BurcuSevgican/assignment/blob/main/Untitled17.ipynb\" target=\"_parent\"><img src=\"https://colab.research.google.com/assets/colab-badge.svg\" alt=\"Open In Colab\"/></a>"
      ]
    },
    {
      "cell_type": "code",
      "metadata": {
        "id": "Cq2CsEhPIxpR"
      },
      "source": [
        "number = int(input('say a number: '))\n",
        "while number >2 :\n",
        "    if number %2 == 0 or number %3 == 0 or number % 5 == 0 or number % 7 == 0 :\n",
        "        print(f'{number} is not a prime number')\n",
        "        break\n",
        "\n",
        "    else :\n",
        "        print(f'{number} is a prime number')\n",
        "        break\n",
        "          "
      ],
      "execution_count": null,
      "outputs": []
    }
  ]
}